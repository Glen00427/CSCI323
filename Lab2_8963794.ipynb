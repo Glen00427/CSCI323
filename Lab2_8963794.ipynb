{
  "nbformat": 4,
  "nbformat_minor": 0,
  "metadata": {
    "colab": {
      "provenance": []
    },
    "kernelspec": {
      "name": "python3",
      "display_name": "Python 3"
    },
    "language_info": {
      "name": "python"
    }
  },
  "cells": [
    {
      "cell_type": "markdown",
      "source": [
        "# CSCI323 Lab 2 Assignment (2025)"
      ],
      "metadata": {
        "id": "9Smdd2mcDMl1"
      }
    },
    {
      "cell_type": "markdown",
      "source": [
        "**Name:** Ng Teng Boon\n",
        "\n",
        "**7-digit UOW ID**: 8963794"
      ],
      "metadata": {
        "id": "C82oGQ5-DCku"
      }
    },
    {
      "cell_type": "markdown",
      "source": [
        "# From travel.py file"
      ],
      "metadata": {
        "id": "u_45e03TxUtw"
      }
    },
    {
      "cell_type": "code",
      "source": [
        "import sys\n",
        "sys.setrecursionlimit(100000)"
      ],
      "metadata": {
        "id": "HqdVpa4Rxapt"
      },
      "execution_count": null,
      "outputs": []
    },
    {
      "cell_type": "markdown",
      "source": [
        "### Model"
      ],
      "metadata": {
        "id": "cVJ0-JNWxfXO"
      }
    },
    {
      "cell_type": "code",
      "source": [
        "class TravelProblem(object):\n",
        "    def __init__(self, N):\n",
        "        # N = number of blocks\n",
        "        self.N = N\n",
        "    def startState(self):\n",
        "        return 1\n",
        "    def isEnd(self, state):\n",
        "        return state == self.N\n",
        "    def succAndCost(self, state):\n",
        "        # return a list of (action, newState, cost) triples\n",
        "        result = []\n",
        "        if state+1 <= self.N:\n",
        "            result.append(('walk', state+1, 1))\n",
        "        if state*2 <= self.N:\n",
        "            result.append(('bus', 2*state, 2))\n",
        "        return result"
      ],
      "metadata": {
        "id": "s3m8oIuqxhQ2"
      },
      "execution_count": null,
      "outputs": []
    },
    {
      "cell_type": "markdown",
      "source": [
        "### Algorithm"
      ],
      "metadata": {
        "id": "vd99p_RhxxbR"
      }
    },
    {
      "cell_type": "code",
      "source": [
        "def printSolution(solution):\n",
        "    totalCost, history = solution\n",
        "    print('Total cost: {}'.format(totalCost))\n",
        "    for step in history:\n",
        "        print(step)"
      ],
      "metadata": {
        "id": "YrfpI7bbxzE_"
      },
      "execution_count": null,
      "outputs": []
    },
    {
      "cell_type": "markdown",
      "source": [
        "### Testing travel"
      ],
      "metadata": {
        "id": "UYkKPfiIr3aD"
      }
    },
    {
      "cell_type": "code",
      "source": [
        "travelProblem1 = TravelProblem(10)"
      ],
      "metadata": {
        "id": "UcH3qY1fr5v5"
      },
      "execution_count": null,
      "outputs": []
    },
    {
      "cell_type": "code",
      "source": [
        "travelProblem1.startState()"
      ],
      "metadata": {
        "colab": {
          "base_uri": "https://localhost:8080/"
        },
        "id": "yj1hET_Wr9Na",
        "outputId": "c9198658-676a-4f02-bd3a-ef827c37c5d4"
      },
      "execution_count": null,
      "outputs": [
        {
          "output_type": "execute_result",
          "data": {
            "text/plain": [
              "1"
            ]
          },
          "metadata": {},
          "execution_count": 5
        }
      ]
    },
    {
      "cell_type": "code",
      "source": [
        "travelProblem1.isEnd(10)"
      ],
      "metadata": {
        "colab": {
          "base_uri": "https://localhost:8080/"
        },
        "id": "whlWdmgbr_qR",
        "outputId": "31318c18-2c4b-476b-89c1-65a9cb186ae6"
      },
      "execution_count": null,
      "outputs": [
        {
          "output_type": "execute_result",
          "data": {
            "text/plain": [
              "True"
            ]
          },
          "metadata": {},
          "execution_count": 6
        }
      ]
    },
    {
      "cell_type": "code",
      "source": [
        "print(travelProblem1.succAndCost(1))\n",
        "print(travelProblem1.succAndCost(2))\n",
        "print(travelProblem1.succAndCost(3))"
      ],
      "metadata": {
        "colab": {
          "base_uri": "https://localhost:8080/"
        },
        "id": "ObotXSg6sBtk",
        "outputId": "5bc2a2cc-73ce-489a-a93f-14b5a62b1fdd"
      },
      "execution_count": null,
      "outputs": [
        {
          "output_type": "stream",
          "name": "stdout",
          "text": [
            "[('walk', 2, 1), ('bus', 2, 2)]\n",
            "[('walk', 3, 1), ('bus', 4, 2)]\n",
            "[('walk', 4, 1), ('bus', 6, 2)]\n"
          ]
        }
      ]
    },
    {
      "cell_type": "markdown",
      "source": [
        "# From util.py file"
      ],
      "metadata": {
        "id": "z6FbwjAMw9cA"
      }
    },
    {
      "cell_type": "code",
      "source": [
        "# import heapq, collections, re, sys, time, os, random"
      ],
      "metadata": {
        "id": "XyE9hOY5xCsX"
      },
      "execution_count": null,
      "outputs": []
    },
    {
      "cell_type": "markdown",
      "source": [
        "### Data structure"
      ],
      "metadata": {
        "id": "lg8m4I3JxJBY"
      }
    },
    {
      "cell_type": "code",
      "source": [
        "# Data structure for supporting uniform cost search.\n",
        "class PriorityQueue:\n",
        "    def  __init__(self):\n",
        "        self.DONE = -100000\n",
        "        self.heap = []\n",
        "        self.priorities = {}  # Map from state to priority\n",
        "\n",
        "    # Insert |state| into the heap with priority |newPriority| if\n",
        "    # |state| isn't in the heap or |newPriority| is smaller than the existing\n",
        "    # priority.\n",
        "    # Return whether the priority queue was updated.\n",
        "    def update(self, state, newPriority):\n",
        "        oldPriority = self.priorities.get(state)\n",
        "        if oldPriority == None or newPriority < oldPriority:\n",
        "            self.priorities[state] = newPriority\n",
        "            heapq.heappush(self.heap, (newPriority, state))\n",
        "            return True\n",
        "        return False\n",
        "\n",
        "    # Returns (state with minimum priority, priority)\n",
        "    # or (None, None) if the priority queue is empty.\n",
        "    def removeMin(self):\n",
        "        while len(self.heap) > 0:\n",
        "            priority, state = heapq.heappop(self.heap)\n",
        "            if self.priorities[state] == self.DONE: continue  # Outdated priority, skip\n",
        "            self.priorities[state] = self.DONE\n",
        "            return (state, priority)\n",
        "        return (None, None) # Nothing left..."
      ],
      "metadata": {
        "id": "HLUf2TJgxLMC"
      },
      "execution_count": null,
      "outputs": []
    },
    {
      "cell_type": "markdown",
      "source": [
        "# From elevator.py file"
      ],
      "metadata": {
        "id": "wub2m-tiwCo8"
      }
    },
    {
      "cell_type": "code",
      "execution_count": null,
      "metadata": {
        "id": "VgpoBoTqv-FR"
      },
      "outputs": [],
      "source": [
        "# @title\n",
        "import sys\n",
        "# from util import PriorityQueue\n",
        "# Could not import from util. I manually copied and pasted the code over here.\n",
        "\n",
        "\n",
        "import heapq, collections, re, sys, time, os, random\n",
        "# Data structure for supporting uniform cost search.\n",
        "class PriorityQueue:\n",
        "    def  __init__(self):\n",
        "        self.DONE = -100000\n",
        "        self.heap = []\n",
        "        self.priorities = {}  # Map from state to priority\n",
        "\n",
        "    # Insert |state| into the heap with priority |newPriority| if\n",
        "    # |state| isn't in the heap or |newPriority| is smaller than the existing\n",
        "    # priority.\n",
        "    # Return whether the priority queue was updated.\n",
        "    def update(self, state, newPriority):\n",
        "        oldPriority = self.priorities.get(state)\n",
        "        if oldPriority == None or newPriority < oldPriority:\n",
        "            self.priorities[state] = newPriority\n",
        "            heapq.heappush(self.heap, (newPriority, state))\n",
        "            return True\n",
        "        return False\n",
        "\n",
        "    # Returns (state with minimum priority, priority)\n",
        "    # or (None, None) if the priority queue is empty.\n",
        "    def removeMin(self):\n",
        "        while len(self.heap) > 0:\n",
        "            priority, state = heapq.heappop(self.heap)\n",
        "            if self.priorities[state] == self.DONE: continue  # Outdated priority, skip\n",
        "            self.priorities[state] = self.DONE\n",
        "            return (state, priority)\n",
        "        return (None, None) # Nothing left...\n",
        "\n",
        "sys.setrecursionlimit(100000)"
      ]
    },
    {
      "cell_type": "markdown",
      "source": [
        "### Model"
      ],
      "metadata": {
        "id": "3T909r6RwPUO"
      }
    },
    {
      "cell_type": "code",
      "source": [
        "class ElevatorProblem(object):\n",
        "    def __init__(self, N):\n",
        "        # N = number of levels\n",
        "        self.N = N\n",
        "    def startState(self):\n",
        "        return 1\n",
        "    def isEnd(self, state):\n",
        "        return state == self.N\n",
        "    def succAndCost(self, state):\n",
        "        # return a list of (action, newState, cost) triples\n",
        "        result = []\n",
        "        if state+1 <= self.N:\n",
        "            result.append(('walk', state+1, 1.0))\n",
        "        if state*2 <= self.N:\n",
        "            result.append(('elevator', 2*state, 1.5))\n",
        "        return result"
      ],
      "metadata": {
        "id": "MRuDyp0rwSL3"
      },
      "execution_count": null,
      "outputs": []
    },
    {
      "cell_type": "markdown",
      "source": [
        "### Algorithm"
      ],
      "metadata": {
        "id": "KLdH5phdwVuu"
      }
    },
    {
      "cell_type": "code",
      "source": [
        "def printSolution(solution):\n",
        "    totalCost, history = solution\n",
        "    print('Total cost: {}'.format(totalCost))\n",
        "    for step in history:\n",
        "        print(step)"
      ],
      "metadata": {
        "id": "4xZyRrSUwYd1"
      },
      "execution_count": null,
      "outputs": []
    },
    {
      "cell_type": "markdown",
      "source": [
        "# Uniform Cost Search"
      ],
      "metadata": {
        "id": "UtN73L4-Cu28"
      }
    },
    {
      "cell_type": "code",
      "source": [
        "test_number = 20 # change to whichever number to test\n",
        "elevatorProblem1 = ElevatorProblem(test_number) # Create an instance of the ElevatorProblem with 10 floors/levels\n",
        "PriorityQueue1 = PriorityQueue() # Create an instance of the PriorityQueue to manage the search\n",
        "\n",
        "# Start with the initial state\n",
        "startState = elevatorProblem1.startState()\n",
        "PriorityQueue1.update(startState, 0)  # Add start state to priority queue with cost 0\n",
        "\n",
        "min_costs = {startState: 0}  # Dictionary to store minimum costs for each state\n",
        "predecessors = {}  # Dictionary to store predecessors for path reconstruction\n",
        "\n",
        "# Explore the search space iteratively until a solution is found / queue is empty\n",
        "while True:\n",
        "    currentState, costSoFar = PriorityQueue1.removeMin() # Get state with lowest cost from priority queue\n",
        "    if currentState is None:\n",
        "        break  # break if there is no more states to explore\n",
        "\n",
        "    if elevatorProblem1.isEnd(currentState): # Check if the current state is the goal state\n",
        "        print(\"Reached the goal state:\", currentState)\n",
        "        print(\"Total cost:\", costSoFar)\n",
        "        break  # Found the goal state\n",
        "\n",
        "    # If current state is not goal state, expand the current state and add successors to the priority queue\n",
        "    for action, newState, stepCost in elevatorProblem1.succAndCost(currentState):\n",
        "        totalCost = costSoFar + stepCost # Calculate total cost to reach the new state\n",
        "\n",
        "\n",
        "        if newState not in min_costs or totalCost < min_costs[newState]: # Check if the current path has a lower cost or if the new state has not been visited\n",
        "          min_costs[newState] = totalCost # Update the minimum cost for the new state\n",
        "          PriorityQueue1.update(newState, totalCost) # Add the new state to priority queue with its total cost\n",
        "          predecessors[newState] = currentState  # Store the predecessor\n",
        "          print(f\"Successor of state {currentState}: ({action}, {newState}, {stepCost}), Total Cost: {totalCost}\")"
      ],
      "metadata": {
        "colab": {
          "base_uri": "https://localhost:8080/"
        },
        "id": "37qLHfsggVoe",
        "outputId": "a9bd560d-e4e6-4255-b124-96a31bda80e5"
      },
      "execution_count": null,
      "outputs": [
        {
          "output_type": "stream",
          "name": "stdout",
          "text": [
            "Successor of state 1: (walk, 2, 1.0), Total Cost: 1.0\n",
            "Successor of state 2: (walk, 3, 1.0), Total Cost: 2.0\n",
            "Successor of state 2: (elevator, 4, 1.5), Total Cost: 2.5\n",
            "Successor of state 3: (elevator, 6, 1.5), Total Cost: 3.5\n",
            "Successor of state 4: (walk, 5, 1.0), Total Cost: 3.5\n",
            "Successor of state 4: (elevator, 8, 1.5), Total Cost: 4.0\n",
            "Successor of state 5: (elevator, 10, 1.5), Total Cost: 5.0\n",
            "Successor of state 6: (walk, 7, 1.0), Total Cost: 4.5\n",
            "Successor of state 6: (elevator, 12, 1.5), Total Cost: 5.0\n",
            "Successor of state 8: (walk, 9, 1.0), Total Cost: 5.0\n",
            "Successor of state 8: (elevator, 16, 1.5), Total Cost: 5.5\n",
            "Successor of state 7: (elevator, 14, 1.5), Total Cost: 6.0\n",
            "Successor of state 9: (elevator, 18, 1.5), Total Cost: 6.5\n",
            "Successor of state 10: (walk, 11, 1.0), Total Cost: 6.0\n",
            "Successor of state 10: (elevator, 20, 1.5), Total Cost: 6.5\n",
            "Successor of state 12: (walk, 13, 1.0), Total Cost: 6.0\n",
            "Successor of state 16: (walk, 17, 1.0), Total Cost: 6.5\n",
            "Successor of state 14: (walk, 15, 1.0), Total Cost: 7.0\n",
            "Successor of state 18: (walk, 19, 1.0), Total Cost: 7.5\n",
            "Reached the goal state: 20\n",
            "Total cost: 6.5\n"
          ]
        }
      ]
    },
    {
      "cell_type": "markdown",
      "source": [
        "\n",
        "\n",
        "---\n",
        "The path taken by the algorithm is:\n",
        "\n",
        "1.   Start at state 1.\n",
        "2.   Walk to state 2.\n",
        "3.   Take Elevator to state 4.\n",
        "4.   Walk to state 5.\n",
        "5.   Take Elevator to state 10.\n",
        "6.   Take Elevator to state 20.\n",
        "---"
      ],
      "metadata": {
        "id": "mv-88xT208RG"
      }
    },
    {
      "cell_type": "code",
      "source": [
        "print(\"Start state:\", elevatorProblem1.startState())  # Should print 1"
      ],
      "metadata": {
        "colab": {
          "base_uri": "https://localhost:8080/"
        },
        "id": "n9rGJESqhIid",
        "outputId": "ae830fde-b07e-4344-f7f6-8bcf6a175dc9"
      },
      "execution_count": null,
      "outputs": [
        {
          "output_type": "stream",
          "name": "stdout",
          "text": [
            "Start state: 1\n"
          ]
        }
      ]
    },
    {
      "cell_type": "code",
      "source": [
        "for i in range(1, test_number + 1):  # Iterate from 1 to test_number (inclusive)\n",
        "    print(\"Is state\", i, \"the end state?\", elevatorProblem1.isEnd(i))"
      ],
      "metadata": {
        "colab": {
          "base_uri": "https://localhost:8080/"
        },
        "id": "yiJ01h_jhLP7",
        "outputId": "986e288c-22d7-4cd7-cc75-5278b4477c23"
      },
      "execution_count": null,
      "outputs": [
        {
          "output_type": "stream",
          "name": "stdout",
          "text": [
            "Is state 1 the end state? False\n",
            "Is state 2 the end state? False\n",
            "Is state 3 the end state? False\n",
            "Is state 4 the end state? False\n",
            "Is state 5 the end state? False\n",
            "Is state 6 the end state? False\n",
            "Is state 7 the end state? False\n",
            "Is state 8 the end state? False\n",
            "Is state 9 the end state? False\n",
            "Is state 10 the end state? False\n",
            "Is state 11 the end state? False\n",
            "Is state 12 the end state? False\n",
            "Is state 13 the end state? False\n",
            "Is state 14 the end state? False\n",
            "Is state 15 the end state? False\n",
            "Is state 16 the end state? False\n",
            "Is state 17 the end state? False\n",
            "Is state 18 the end state? False\n",
            "Is state 19 the end state? False\n",
            "Is state 20 the end state? True\n"
          ]
        }
      ]
    },
    {
      "cell_type": "code",
      "source": [
        "print(\"Successors of state 1:\", elevatorProblem1.succAndCost(1))\n",
        "# Should print something like: [('walk', 2, 1.0), ('elevator', 2, 1.5)]"
      ],
      "metadata": {
        "colab": {
          "base_uri": "https://localhost:8080/"
        },
        "id": "oRK0xbQAhMeh",
        "outputId": "47f4ec2d-119d-4c06-9f17-3625040dc759"
      },
      "execution_count": null,
      "outputs": [
        {
          "output_type": "stream",
          "name": "stdout",
          "text": [
            "Successors of state 1: [('walk', 2, 1.0), ('elevator', 2, 1.5)]\n"
          ]
        }
      ]
    },
    {
      "cell_type": "code",
      "source": [
        "# Loop to iterate through states and print successors\n",
        "for i in range(1, test_number + 1):  # Iterate from 1 to test_number\n",
        "    successors = elevatorProblem1.succAndCost(i)  # Get successors for each state\n",
        "    print(f\"Successors of state {i}: {successors}\")  # Print successors"
      ],
      "metadata": {
        "colab": {
          "base_uri": "https://localhost:8080/"
        },
        "id": "C5ye8XEdl5ih",
        "outputId": "c58fe663-b948-4776-b920-f6d48c7760b9"
      },
      "execution_count": null,
      "outputs": [
        {
          "output_type": "stream",
          "name": "stdout",
          "text": [
            "Successors of state 1: [('walk', 2, 1.0), ('elevator', 2, 1.5)]\n",
            "Successors of state 2: [('walk', 3, 1.0), ('elevator', 4, 1.5)]\n",
            "Successors of state 3: [('walk', 4, 1.0), ('elevator', 6, 1.5)]\n",
            "Successors of state 4: [('walk', 5, 1.0), ('elevator', 8, 1.5)]\n",
            "Successors of state 5: [('walk', 6, 1.0), ('elevator', 10, 1.5)]\n",
            "Successors of state 6: [('walk', 7, 1.0), ('elevator', 12, 1.5)]\n",
            "Successors of state 7: [('walk', 8, 1.0), ('elevator', 14, 1.5)]\n",
            "Successors of state 8: [('walk', 9, 1.0), ('elevator', 16, 1.5)]\n",
            "Successors of state 9: [('walk', 10, 1.0), ('elevator', 18, 1.5)]\n",
            "Successors of state 10: [('walk', 11, 1.0), ('elevator', 20, 1.5)]\n",
            "Successors of state 11: [('walk', 12, 1.0)]\n",
            "Successors of state 12: [('walk', 13, 1.0)]\n",
            "Successors of state 13: [('walk', 14, 1.0)]\n",
            "Successors of state 14: [('walk', 15, 1.0)]\n",
            "Successors of state 15: [('walk', 16, 1.0)]\n",
            "Successors of state 16: [('walk', 17, 1.0)]\n",
            "Successors of state 17: [('walk', 18, 1.0)]\n",
            "Successors of state 18: [('walk', 19, 1.0)]\n",
            "Successors of state 19: [('walk', 20, 1.0)]\n",
            "Successors of state 20: []\n"
          ]
        }
      ]
    },
    {
      "cell_type": "markdown",
      "source": [
        "### Short Summary"
      ],
      "metadata": {
        "id": "xlRS_qrj2ZpZ"
      }
    },
    {
      "cell_type": "markdown",
      "source": [
        "\n",
        "\n",
        "---\n",
        "Within UCS, the nodes are explored by order of lowest accumulated cost, and by right it should only consider the path with the minimum accumulated cost to reach a particular state. To do that, we track the minimum cost to reach each state and update it if a lower cost is found. The UCS implementation employs a priority queue PriorityQueue1 to manage the exploration of states. PriorityQueue1 prioritizes states based on their accumulated costs, ensuring that states with lower costs are explored first. This prioritization is essential to the algorithm's efficiency and optimality. By always selecting the state with the lowest accumulated cost for expansion, UCS systematically explores the search space, favoring paths that can reach the goal with the minimum cost.\n",
        "\n",
        "\n",
        "The accumulated cost for a state is determined by summing up the step costs along the path taken to reach that state from the start state. In the code used, this cost is tracked using the variable 'costSoFar', which is initialized to 0 for the start state and updated as the algorithm explores successor states.\n",
        "\n",
        "\n",
        "We use min_costs to guarantee that only the lowest-cost path to a particular state is considered by storing the minimum cost encountered so far to reach each state. Whenever a new path to a state is discovered, its cost is compared to the current minimum cost stored in min_costs. If the new path offers a lower cost, min_costs is updated, and the state is added to the priority queue with its updated cost. This ensures that the most cost efficient paths are prioritized.\n",
        "\n",
        "---\n",
        "\n"
      ],
      "metadata": {
        "id": "od_KMy412gdv"
      }
    },
    {
      "cell_type": "code",
      "source": [
        "elevatorProblem1 = ElevatorProblem(10)\n",
        "PriorityQueue1 = PriorityQueue(elevatorProblem1)"
      ],
      "metadata": {
        "colab": {
          "base_uri": "https://localhost:8080/",
          "height": 158
        },
        "id": "8DEzW2XxffVY",
        "outputId": "e0e01d02-f11b-4182-cb33-55fcf97c621b"
      },
      "execution_count": null,
      "outputs": [
        {
          "output_type": "error",
          "ename": "TypeError",
          "evalue": "PriorityQueue.__init__() takes 1 positional argument but 2 were given",
          "traceback": [
            "\u001b[0;31m---------------------------------------------------------------------------\u001b[0m",
            "\u001b[0;31mTypeError\u001b[0m                                 Traceback (most recent call last)",
            "\u001b[0;32m<ipython-input-18-046936916744>\u001b[0m in \u001b[0;36m<cell line: 0>\u001b[0;34m()\u001b[0m\n\u001b[1;32m      1\u001b[0m \u001b[0melevatorProblem1\u001b[0m \u001b[0;34m=\u001b[0m \u001b[0mElevatorProblem\u001b[0m\u001b[0;34m(\u001b[0m\u001b[0;36m10\u001b[0m\u001b[0;34m)\u001b[0m\u001b[0;34m\u001b[0m\u001b[0;34m\u001b[0m\u001b[0m\n\u001b[0;32m----> 2\u001b[0;31m \u001b[0mPriorityQueue1\u001b[0m \u001b[0;34m=\u001b[0m \u001b[0mPriorityQueue\u001b[0m\u001b[0;34m(\u001b[0m\u001b[0melevatorProblem1\u001b[0m\u001b[0;34m)\u001b[0m\u001b[0;34m\u001b[0m\u001b[0;34m\u001b[0m\u001b[0m\n\u001b[0m",
            "\u001b[0;31mTypeError\u001b[0m: PriorityQueue.__init__() takes 1 positional argument but 2 were given"
          ]
        }
      ]
    }
  ]
}